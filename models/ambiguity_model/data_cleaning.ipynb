{
 "cells": [
  {
   "cell_type": "code",
   "execution_count": 2,
   "metadata": {},
   "outputs": [
    {
     "name": "stdout",
     "output_type": "stream",
     "text": [
      "\n",
      "Cleaned dataset saved to 'cleaned_dataset.csv'\n"
     ]
    }
   ],
   "source": [
    "import pandas as pd\n",
    "import numpy as np\n",
    "import re\n",
    "from sklearn.feature_extraction.text import TfidfVectorizer\n",
    "from sklearn.model_selection import train_test_split\n",
    "from sklearn.linear_model import LogisticRegression\n",
    "from sklearn.metrics import classification_report, accuracy_score\n",
    "\n",
    "\n",
    "def clean_text(text):\n",
    "    # Remove <referential> tags\n",
    "    text = re.sub(r'<referential>([^<]+)</referential>', r'\\1', text)\n",
    "    # Remove any leftover XML-like tags\n",
    "    text = re.sub(r'<[^>]+>', '', text)\n",
    "    # Remove any extra quotes\n",
    "    text = re.sub(r'\"{2,}', '\"', text)\n",
    "    # Remove any extra spaces\n",
    "    text = re.sub(r'\\s+', ' ', text)\n",
    "    return text.strip()\n",
    "\n",
    "try:\n",
    "    df = pd.read_csv('test.tsv', sep='\\t', header=None, \n",
    "                     names=['id', 'sentence_id', 'sentence', 'label'])\n",
    "    if len(df.columns) == 3:\n",
    "        df = pd.read_csv('paste.txt', sep='\\t', header=None, \n",
    "                         names=['id', 'sentence_id', 'sentence'])\n",
    "        df['label'] = 'INNOCUOUS'  # Default label if not provided\n",
    "except Exception as e:\n",
    "    print(f\"Error reading TSV file: {e}\")\n",
    "    print(\"Trying alternative parsing method...\")\n",
    "    \n",
    "    data = []\n",
    "    with open('paste.txt', 'r', encoding='utf-8') as f:\n",
    "        for line in f:\n",
    "            parts = line.strip().split('\\t')\n",
    "            if len(parts) >= 3:\n",
    "                id_num = parts[0]\n",
    "                sentence_id = parts[1]\n",
    "                sentence = parts[2]\n",
    "                label = \"INNOCUOUS\" if len(parts) <= 3 else parts[3]\n",
    "                \n",
    "                data.append({\n",
    "                    'id': id_num,\n",
    "                    'sentence_id': sentence_id,\n",
    "                    'sentence': sentence,\n",
    "                    'label': label\n",
    "                })\n",
    "    \n",
    "    df = pd.DataFrame(data)\n",
    "\n",
    "df['sentence'] = df['sentence'].apply(clean_text)\n",
    "\n",
    "df.to_csv('cleaned_dataset_test.csv', index=False)\n",
    "print(\"\\nCleaned dataset saved to 'cleaned_dataset.csv'\")\n",
    "\n"
   ]
  }
 ],
 "metadata": {
  "kernelspec": {
   "display_name": "Python 3",
   "language": "python",
   "name": "python3"
  },
  "language_info": {
   "codemirror_mode": {
    "name": "ipython",
    "version": 3
   },
   "file_extension": ".py",
   "mimetype": "text/x-python",
   "name": "python",
   "nbconvert_exporter": "python",
   "pygments_lexer": "ipython3",
   "version": "3.10.4"
  }
 },
 "nbformat": 4,
 "nbformat_minor": 2
}

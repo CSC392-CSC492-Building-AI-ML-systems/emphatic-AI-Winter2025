{
  "nbformat": 4,
  "nbformat_minor": 0,
  "metadata": {
    "colab": {
      "provenance": []
    },
    "kernelspec": {
      "name": "python3",
      "display_name": "Python 3"
    },
    "language_info": {
      "name": "python"
    }
  },
  "cells": [
    {
      "cell_type": "code",
      "source": [
        "from google.colab import drive\n",
        "drive.mount('/content/gdrive')"
      ],
      "metadata": {
        "colab": {
          "base_uri": "https://localhost:8080/"
        },
        "id": "lXznQF0wERf5",
        "outputId": "0d214752-34c1-4f80-97fd-a04bab897a22"
      },
      "execution_count": 4,
      "outputs": [
        {
          "output_type": "stream",
          "name": "stdout",
          "text": [
            "Mounted at /content/gdrive\n"
          ]
        }
      ]
    },
    {
      "cell_type": "code",
      "source": [
        "import pandas as pd\n",
        "from sklearn.model_selection import train_test_split\n",
        "from sklearn.feature_extraction.text import TfidfVectorizer\n",
        "from sklearn.svm import LinearSVC\n",
        "from sklearn.metrics import classification_report"
      ],
      "metadata": {
        "id": "Jif0GtAH7IxD"
      },
      "execution_count": 5,
      "outputs": []
    },
    {
      "cell_type": "markdown",
      "source": [],
      "metadata": {
        "id": "cnoxHfB9wtE8"
      }
    },
    {
      "cell_type": "code",
      "source": [
        "# Load dataset, split data\n",
        "df = pd.read_csv(\"/content/gdrive/MyDrive/csc492/intent_dataset.csv\")\n",
        "\n",
        "df['Intent Label'].value_counts()"
      ],
      "metadata": {
        "colab": {
          "base_uri": "https://localhost:8080/",
          "height": 362
        },
        "id": "u7WSuwD67rmt",
        "outputId": "17538355-f68a-4b40-f11e-257452d59eee"
      },
      "execution_count": 6,
      "outputs": [
        {
          "output_type": "execute_result",
          "data": {
            "text/plain": [
              "Intent Label\n",
              "Precise/Urgent Intent       134\n",
              "Feedback/Opinion Intent     134\n",
              "Navigational Intent         128\n",
              "Confirmation Intent         127\n",
              "Curious Intent              119\n",
              "Comparative Intent          111\n",
              "Support/Help Intent         111\n",
              "Emotional Support Intent    107\n",
              "Name: count, dtype: int64"
            ],
            "text/html": [
              "<div>\n",
              "<style scoped>\n",
              "    .dataframe tbody tr th:only-of-type {\n",
              "        vertical-align: middle;\n",
              "    }\n",
              "\n",
              "    .dataframe tbody tr th {\n",
              "        vertical-align: top;\n",
              "    }\n",
              "\n",
              "    .dataframe thead th {\n",
              "        text-align: right;\n",
              "    }\n",
              "</style>\n",
              "<table border=\"1\" class=\"dataframe\">\n",
              "  <thead>\n",
              "    <tr style=\"text-align: right;\">\n",
              "      <th></th>\n",
              "      <th>count</th>\n",
              "    </tr>\n",
              "    <tr>\n",
              "      <th>Intent Label</th>\n",
              "      <th></th>\n",
              "    </tr>\n",
              "  </thead>\n",
              "  <tbody>\n",
              "    <tr>\n",
              "      <th>Precise/Urgent Intent</th>\n",
              "      <td>134</td>\n",
              "    </tr>\n",
              "    <tr>\n",
              "      <th>Feedback/Opinion Intent</th>\n",
              "      <td>134</td>\n",
              "    </tr>\n",
              "    <tr>\n",
              "      <th>Navigational Intent</th>\n",
              "      <td>128</td>\n",
              "    </tr>\n",
              "    <tr>\n",
              "      <th>Confirmation Intent</th>\n",
              "      <td>127</td>\n",
              "    </tr>\n",
              "    <tr>\n",
              "      <th>Curious Intent</th>\n",
              "      <td>119</td>\n",
              "    </tr>\n",
              "    <tr>\n",
              "      <th>Comparative Intent</th>\n",
              "      <td>111</td>\n",
              "    </tr>\n",
              "    <tr>\n",
              "      <th>Support/Help Intent</th>\n",
              "      <td>111</td>\n",
              "    </tr>\n",
              "    <tr>\n",
              "      <th>Emotional Support Intent</th>\n",
              "      <td>107</td>\n",
              "    </tr>\n",
              "  </tbody>\n",
              "</table>\n",
              "</div><br><label><b>dtype:</b> int64</label>"
            ]
          },
          "metadata": {},
          "execution_count": 6
        }
      ]
    },
    {
      "cell_type": "code",
      "source": [
        "X_train, X_test, y_train, y_test = train_test_split(df[\"User Query\"], df[\"Intent Label\"], test_size=0.2, random_state=42)\n",
        "\n",
        "# Convert text to TF-IDF features\n",
        "vectorizer = TfidfVectorizer()\n",
        "X_train_tfidf = vectorizer.fit_transform(X_train)\n",
        "X_test_tfidf = vectorizer.transform(X_test)\n",
        "\n",
        "# Train a LinearSVC model\n",
        "model = LinearSVC()\n",
        "model.fit(X_train_tfidf, y_train)\n",
        "\n",
        "# Evaluate\n",
        "y_pred = model.predict(X_test_tfidf)\n",
        "print(classification_report(y_test, y_pred))"
      ],
      "metadata": {
        "colab": {
          "base_uri": "https://localhost:8080/"
        },
        "id": "F7akkOX3iOJR",
        "outputId": "814cee65-e978-40f2-c92f-7fb829cb3dc9"
      },
      "execution_count": null,
      "outputs": [
        {
          "output_type": "stream",
          "name": "stdout",
          "text": [
            "                          precision    recall  f1-score   support\n",
            "\n",
            "      Comparative Intent       0.91      0.91      0.91        22\n",
            "     Confirmation Intent       0.93      0.84      0.88        31\n",
            "          Curious Intent       0.95      0.83      0.88        23\n",
            "Emotional Support Intent       0.90      0.95      0.92        19\n",
            " Feedback/Opinion Intent       0.84      0.91      0.88        23\n",
            "     Navigational Intent       0.86      0.82      0.84        22\n",
            "   Precise/Urgent Intent       0.83      0.86      0.85        35\n",
            "     Support/Help Intent       0.78      0.90      0.84        20\n",
            "\n",
            "                accuracy                           0.87       195\n",
            "               macro avg       0.88      0.88      0.87       195\n",
            "            weighted avg       0.88      0.87      0.87       195\n",
            "\n"
          ]
        }
      ]
    },
    {
      "cell_type": "code",
      "source": [
        "# Manual testing using custom prompt\n",
        "new_query = \"I want to order a cheeseburger\"\n",
        "new_query_tfidf = vectorizer.transform([new_query])\n",
        "predicted_intent = model.predict(new_query_tfidf)\n",
        "print(f\"Predicted Intent: {predicted_intent[0]}\")"
      ],
      "metadata": {
        "colab": {
          "base_uri": "https://localhost:8080/"
        },
        "id": "0giWLc0ErClh",
        "outputId": "d623c773-aa3d-4b85-aa2f-e6c058d89825"
      },
      "execution_count": null,
      "outputs": [
        {
          "output_type": "stream",
          "name": "stdout",
          "text": [
            "Predicted Intent: Support/Help Intent\n"
          ]
        }
      ]
    },
    {
      "cell_type": "code",
      "source": [],
      "metadata": {
        "id": "CimCeJihTE0b"
      },
      "execution_count": null,
      "outputs": []
    }
  ]
}
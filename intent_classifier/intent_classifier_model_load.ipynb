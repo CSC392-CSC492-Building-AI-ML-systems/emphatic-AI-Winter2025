{
 "cells": [
  {
   "cell_type": "code",
   "execution_count": null,
   "metadata": {
    "vscode": {
     "languageId": "plaintext"
    }
   },
   "outputs": [],
   "source": [
    "# Load the vectorizer\n",
    "vectorizer = joblib.load(\"tfidf_vectorizer.pkl\")\n",
    "\n",
    "# Load the model\n",
    "model = joblib.load(\"intent_classifier.pkl\")\n",
    "\n",
    "# Example usage\n",
    "sample_query = [\"How do I reset my password?\"]\n",
    "sample_query_tfidf = vectorizer.transform(sample_query)\n",
    "predicted_intent = model.predict(sample_query_tfidf)\n",
    "\n",
    "print(\"Predicted Intent:\", predicted_intent[0])"
   ]
  }
 ],
 "metadata": {
  "language_info": {
   "name": "python"
  }
 },
 "nbformat": 4,
 "nbformat_minor": 2
}

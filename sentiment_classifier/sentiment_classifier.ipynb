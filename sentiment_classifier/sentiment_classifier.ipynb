{
 "cells": [
  {
   "cell_type": "code",
   "execution_count": 5,
   "metadata": {},
   "outputs": [
    {
     "name": "stdout",
     "output_type": "stream",
     "text": [
      "Combined dataset size: 211225\n",
      "                                                text       id  \\\n",
      "0                                    That game hurt.  eew5j0j   \n",
      "1   >sexuality shouldn’t be a grouping category I...  eemcysk   \n",
      "2     You do right, if you don't care then fuck 'em!  ed2mah1   \n",
      "3                                 Man I love reddit.  eeibobj   \n",
      "4  [NAME] was nowhere near them, he was by the Fa...  eda6yn6   \n",
      "\n",
      "                author            subreddit    link_id   parent_id  \\\n",
      "0                Brdd9                  nrl  t3_ajis4z  t1_eew18eq   \n",
      "1          TheGreen888     unpopularopinion  t3_ai4q37   t3_ai4q37   \n",
      "2             Labalool          confessions  t3_abru74  t1_ed2m7g7   \n",
      "3        MrsRobertshaw             facepalm  t3_ahulml   t3_ahulml   \n",
      "4  American_Fascist713  starwarsspeculation  t3_ackt2f  t1_eda65q2   \n",
      "\n",
      "    created_utc  rater_id  example_very_unclear  admiration  ...  love  \\\n",
      "0  1.548381e+09         1                 False           0  ...     0   \n",
      "1  1.548084e+09        37                  True           0  ...     0   \n",
      "2  1.546428e+09        37                 False           0  ...     0   \n",
      "3  1.547965e+09        18                 False           0  ...     1   \n",
      "4  1.546669e+09         2                 False           0  ...     0   \n",
      "\n",
      "   nervousness  optimism  pride  realization  relief  remorse  sadness  \\\n",
      "0            0         0      0            0       0        0        1   \n",
      "1            0         0      0            0       0        0        0   \n",
      "2            0         0      0            0       0        0        0   \n",
      "3            0         0      0            0       0        0        0   \n",
      "4            0         0      0            0       0        0        0   \n",
      "\n",
      "   surprise  neutral  \n",
      "0         0        0  \n",
      "1         0        0  \n",
      "2         0        1  \n",
      "3         0        0  \n",
      "4         0        1  \n",
      "\n",
      "[5 rows x 37 columns]\n"
     ]
    }
   ],
   "source": [
    "import pandas as pd\n",
    "import numpy as np\n",
    "import torch\n",
    "import torch.nn as nn\n",
    "from transformers import (\n",
    "    AutoModelForSequenceClassification,\n",
    "    AutoTokenizer,\n",
    "    TrainingArguments,\n",
    "    Trainer,\n",
    "    DefaultDataCollator\n",
    ")\n",
    "from datasets import Dataset, DatasetDict, Value, Sequence\n",
    "\n",
    "# 1. Read CSV files\n",
    "df1 = pd.read_csv(\"goemotions/data/full_dataset/goemotions_1.csv\")\n",
    "df2 = pd.read_csv(\"goemotions/data/full_dataset/goemotions_2.csv\")\n",
    "df3 = pd.read_csv(\"goemotions/data/full_dataset/goemotions_3.csv\")\n",
    "\n",
    "# Combine them if needed (this step depends on how your CSVs are structured)\n",
    "df = pd.concat([df1, df2, df3], ignore_index=True)\n",
    "\n",
    "# Inspect\n",
    "print(\"Combined dataset size:\", len(df))\n",
    "print(df.head())\n"
   ]
  },
  {
   "cell_type": "code",
   "execution_count": 6,
   "metadata": {},
   "outputs": [
    {
     "name": "stdout",
     "output_type": "stream",
     "text": [
      "New label set: ['admiration', 'anger', 'approval', 'confusion', 'curiosity', 'desire', 'disapproval', 'embarrassment', 'fear', 'gratitude', 'joy', 'love', 'neutral', 'optimism', 'pride', 'realization', 'relief', 'remorse', 'sadness', 'surprise']\n"
     ]
    }
   ],
   "source": [
    "# Suppose your CSV has a column \"labels\" that is a list of emotion strings:\n",
    "# e.g. row[\"labels\"] might be [\"joy\", \"amusement\"]\n",
    "\n",
    "label_groups = {\n",
    "    \"anger\": \"anger\",\n",
    "    \"annoyance\": \"anger\",\n",
    "    \"disgust\": \"anger\",\n",
    "    \"joy\": \"joy\",\n",
    "    \"amusement\": \"joy\",\n",
    "    \"excitement\": \"joy\",\n",
    "    \"sadness\": \"sadness\",\n",
    "    \"grief\": \"sadness\",\n",
    "    \"disappointment\": \"sadness\",\n",
    "    \"love\": \"love\",\n",
    "    \"caring\": \"love\",\n",
    "    \"fear\": \"fear\",\n",
    "    \"nervousness\": \"fear\",\n",
    "    \"surprise\": \"surprise\",\n",
    "    # ... etc ...\n",
    "    \"admiration\": \"admiration\",\n",
    "    \"approval\": \"approval\",\n",
    "    \"confusion\": \"confusion\",\n",
    "    \"curiosity\": \"curiosity\",\n",
    "    \"desire\": \"desire\",\n",
    "    \"disapproval\": \"disapproval\",\n",
    "    \"embarrassment\": \"embarrassment\",\n",
    "    \"gratitude\": \"gratitude\",\n",
    "    \"optimism\": \"optimism\",\n",
    "    \"pride\": \"pride\",\n",
    "    \"realization\": \"realization\",\n",
    "    \"relief\": \"relief\",\n",
    "    \"remorse\": \"remorse\",\n",
    "    \"neutral\": \"neutral\"\n",
    "}\n",
    "\n",
    "# Build a sorted list of unique new labels:\n",
    "unique_new_labels = sorted(list(set(label_groups.values())))\n",
    "print(\"New label set:\", unique_new_labels)\n",
    "# e.g. ['admiration', 'anger', 'approval', 'confusion', 'curiosity', 'desire', \n",
    "#       'disapproval', 'embarrassment', 'fear', 'gratitude', 'joy', 'love', \n",
    "#       'neutral', 'optimism', 'pride', 'realization', 'relief', 'remorse', \n",
    "#       'sadness', 'surprise']\n",
    "\n",
    "# Create a mapping from label -> index\n",
    "new_label2id = {lbl: i for i, lbl in enumerate(unique_new_labels)}\n",
    "\n",
    "def map_labels_to_new(labels_list):\n",
    "    \"\"\"\n",
    "    labels_list is the list of original label strings for a single example.\n",
    "    We'll map each to the new label, then build a multi-hot vector.\n",
    "    \"\"\"\n",
    "    # Start all zeros\n",
    "    multi_hot = [0] * len(unique_new_labels)\n",
    "    for old_lbl in labels_list:\n",
    "        if old_lbl in label_groups:\n",
    "            new_lbl = label_groups[old_lbl]\n",
    "            idx = new_label2id[new_lbl]\n",
    "            multi_hot[idx] = 1\n",
    "        # If there's a label not in label_groups, decide how to handle it (ignore or add it)\n",
    "    return multi_hot\n"
   ]
  },
  {
   "cell_type": "code",
   "execution_count": 9,
   "metadata": {},
   "outputs": [],
   "source": [
    "label_groups = {\n",
    "    \"anger\": \"anger\",\n",
    "    \"disgust\": \"anger\",   # Merge disgust into \"anger\"\n",
    "\n",
    "    \"joy\": \"joy\",\n",
    "    \"amusement\": \"joy\",\n",
    "    \"excitement\": \"joy\",\n",
    "\n",
    "    \"sadness\": \"sadness\",\n",
    "    \"grief\": \"sadness\",\n",
    "    \"disappointment\": \"sadness\",\n",
    "\n",
    "    \"love\": \"love\",\n",
    "    \"caring\": \"love\",\n",
    "\n",
    "    \"fear\": \"fear\",\n",
    "    \"nervousness\": \"fear\",\n",
    "\n",
    "    # Keep some as-is:\n",
    "    \"admiration\": \"admiration\",\n",
    "    \"approval\":   \"approval\",\n",
    "    \"confusion\":  \"confusion\",\n",
    "    \"curiosity\":  \"curiosity\",\n",
    "    \"desire\":     \"desire\",\n",
    "    \"disapproval\":\"disapproval\",\n",
    "    \"embarrassment\":\"embarrassment\",\n",
    "    \"gratitude\":  \"gratitude\",\n",
    "    \"optimism\":   \"optimism\",\n",
    "    \"pride\":      \"pride\",\n",
    "    \"realization\":\"realization\",\n",
    "    \"relief\":     \"relief\",\n",
    "    \"remorse\":    \"remorse\",\n",
    "    \"sadness\":    \"sadness\",\n",
    "    \"surprise\":   \"surprise\",\n",
    "    \"neutral\":    \"neutral\"\n",
    "}\n"
   ]
  },
  {
   "cell_type": "code",
   "execution_count": 14,
   "metadata": {},
   "outputs": [
    {
     "name": "stdout",
     "output_type": "stream",
     "text": [
      "New label set: ['admiration', 'anger', 'approval', 'confusion', 'curiosity', 'desire', 'disapproval', 'embarrassment', 'fear', 'gratitude', 'joy', 'love', 'neutral', 'optimism', 'pride', 'realization', 'relief', 'remorse', 'sadness', 'surprise']\n"
     ]
    }
   ],
   "source": [
    "unique_new_labels = sorted(set(label_groups.values()))\n",
    "print(\"New label set:\", unique_new_labels)\n",
    "new_label2id = {lbl: i for i, lbl in enumerate(unique_new_labels)}\n"
   ]
  },
  {
   "cell_type": "code",
   "execution_count": 13,
   "metadata": {},
   "outputs": [
    {
     "ename": "NameError",
     "evalue": "name 'emotions' is not defined",
     "output_type": "error",
     "traceback": [
      "\u001b[1;31m---------------------------------------------------------------------------\u001b[0m",
      "\u001b[1;31mNameError\u001b[0m                                 Traceback (most recent call last)",
      "Cell \u001b[1;32mIn[13], line 14\u001b[0m\n\u001b[0;32m     11\u001b[0m             multi_hot[idx] \u001b[38;5;241m=\u001b[39m \u001b[38;5;241m1\u001b[39m\n\u001b[0;32m     12\u001b[0m     \u001b[38;5;28;01mreturn\u001b[39;00m multi_hot\n\u001b[1;32m---> 14\u001b[0m df[\u001b[38;5;124m\"\u001b[39m\u001b[38;5;124mnew_multi_hot\u001b[39m\u001b[38;5;124m\"\u001b[39m] \u001b[38;5;241m=\u001b[39m \u001b[43mdf\u001b[49m\u001b[38;5;241;43m.\u001b[39;49m\u001b[43mapply\u001b[49m\u001b[43m(\u001b[49m\u001b[43mrow_to_new_multi_hot\u001b[49m\u001b[43m,\u001b[49m\u001b[43m \u001b[49m\u001b[43maxis\u001b[49m\u001b[38;5;241;43m=\u001b[39;49m\u001b[38;5;241;43m1\u001b[39;49m\u001b[43m)\u001b[49m\n",
      "File \u001b[1;32mc:\\Second_Sem\\csc392\\env_py310\\lib\\site-packages\\pandas\\core\\frame.py:10374\u001b[0m, in \u001b[0;36mDataFrame.apply\u001b[1;34m(self, func, axis, raw, result_type, args, by_row, engine, engine_kwargs, **kwargs)\u001b[0m\n\u001b[0;32m  10360\u001b[0m \u001b[38;5;28;01mfrom\u001b[39;00m\u001b[38;5;250m \u001b[39m\u001b[38;5;21;01mpandas\u001b[39;00m\u001b[38;5;21;01m.\u001b[39;00m\u001b[38;5;21;01mcore\u001b[39;00m\u001b[38;5;21;01m.\u001b[39;00m\u001b[38;5;21;01mapply\u001b[39;00m\u001b[38;5;250m \u001b[39m\u001b[38;5;28;01mimport\u001b[39;00m frame_apply\n\u001b[0;32m  10362\u001b[0m op \u001b[38;5;241m=\u001b[39m frame_apply(\n\u001b[0;32m  10363\u001b[0m     \u001b[38;5;28mself\u001b[39m,\n\u001b[0;32m  10364\u001b[0m     func\u001b[38;5;241m=\u001b[39mfunc,\n\u001b[1;32m   (...)\u001b[0m\n\u001b[0;32m  10372\u001b[0m     kwargs\u001b[38;5;241m=\u001b[39mkwargs,\n\u001b[0;32m  10373\u001b[0m )\n\u001b[1;32m> 10374\u001b[0m \u001b[38;5;28;01mreturn\u001b[39;00m \u001b[43mop\u001b[49m\u001b[38;5;241;43m.\u001b[39;49m\u001b[43mapply\u001b[49m\u001b[43m(\u001b[49m\u001b[43m)\u001b[49m\u001b[38;5;241m.\u001b[39m__finalize__(\u001b[38;5;28mself\u001b[39m, method\u001b[38;5;241m=\u001b[39m\u001b[38;5;124m\"\u001b[39m\u001b[38;5;124mapply\u001b[39m\u001b[38;5;124m\"\u001b[39m)\n",
      "File \u001b[1;32mc:\\Second_Sem\\csc392\\env_py310\\lib\\site-packages\\pandas\\core\\apply.py:916\u001b[0m, in \u001b[0;36mFrameApply.apply\u001b[1;34m(self)\u001b[0m\n\u001b[0;32m    913\u001b[0m \u001b[38;5;28;01melif\u001b[39;00m \u001b[38;5;28mself\u001b[39m\u001b[38;5;241m.\u001b[39mraw:\n\u001b[0;32m    914\u001b[0m     \u001b[38;5;28;01mreturn\u001b[39;00m \u001b[38;5;28mself\u001b[39m\u001b[38;5;241m.\u001b[39mapply_raw(engine\u001b[38;5;241m=\u001b[39m\u001b[38;5;28mself\u001b[39m\u001b[38;5;241m.\u001b[39mengine, engine_kwargs\u001b[38;5;241m=\u001b[39m\u001b[38;5;28mself\u001b[39m\u001b[38;5;241m.\u001b[39mengine_kwargs)\n\u001b[1;32m--> 916\u001b[0m \u001b[38;5;28;01mreturn\u001b[39;00m \u001b[38;5;28;43mself\u001b[39;49m\u001b[38;5;241;43m.\u001b[39;49m\u001b[43mapply_standard\u001b[49m\u001b[43m(\u001b[49m\u001b[43m)\u001b[49m\n",
      "File \u001b[1;32mc:\\Second_Sem\\csc392\\env_py310\\lib\\site-packages\\pandas\\core\\apply.py:1063\u001b[0m, in \u001b[0;36mFrameApply.apply_standard\u001b[1;34m(self)\u001b[0m\n\u001b[0;32m   1061\u001b[0m \u001b[38;5;28;01mdef\u001b[39;00m\u001b[38;5;250m \u001b[39m\u001b[38;5;21mapply_standard\u001b[39m(\u001b[38;5;28mself\u001b[39m):\n\u001b[0;32m   1062\u001b[0m     \u001b[38;5;28;01mif\u001b[39;00m \u001b[38;5;28mself\u001b[39m\u001b[38;5;241m.\u001b[39mengine \u001b[38;5;241m==\u001b[39m \u001b[38;5;124m\"\u001b[39m\u001b[38;5;124mpython\u001b[39m\u001b[38;5;124m\"\u001b[39m:\n\u001b[1;32m-> 1063\u001b[0m         results, res_index \u001b[38;5;241m=\u001b[39m \u001b[38;5;28;43mself\u001b[39;49m\u001b[38;5;241;43m.\u001b[39;49m\u001b[43mapply_series_generator\u001b[49m\u001b[43m(\u001b[49m\u001b[43m)\u001b[49m\n\u001b[0;32m   1064\u001b[0m     \u001b[38;5;28;01melse\u001b[39;00m:\n\u001b[0;32m   1065\u001b[0m         results, res_index \u001b[38;5;241m=\u001b[39m \u001b[38;5;28mself\u001b[39m\u001b[38;5;241m.\u001b[39mapply_series_numba()\n",
      "File \u001b[1;32mc:\\Second_Sem\\csc392\\env_py310\\lib\\site-packages\\pandas\\core\\apply.py:1081\u001b[0m, in \u001b[0;36mFrameApply.apply_series_generator\u001b[1;34m(self)\u001b[0m\n\u001b[0;32m   1078\u001b[0m \u001b[38;5;28;01mwith\u001b[39;00m option_context(\u001b[38;5;124m\"\u001b[39m\u001b[38;5;124mmode.chained_assignment\u001b[39m\u001b[38;5;124m\"\u001b[39m, \u001b[38;5;28;01mNone\u001b[39;00m):\n\u001b[0;32m   1079\u001b[0m     \u001b[38;5;28;01mfor\u001b[39;00m i, v \u001b[38;5;129;01min\u001b[39;00m \u001b[38;5;28menumerate\u001b[39m(series_gen):\n\u001b[0;32m   1080\u001b[0m         \u001b[38;5;66;03m# ignore SettingWithCopy here in case the user mutates\u001b[39;00m\n\u001b[1;32m-> 1081\u001b[0m         results[i] \u001b[38;5;241m=\u001b[39m \u001b[38;5;28mself\u001b[39m\u001b[38;5;241m.\u001b[39mfunc(v, \u001b[38;5;241m*\u001b[39m\u001b[38;5;28mself\u001b[39m\u001b[38;5;241m.\u001b[39margs, \u001b[38;5;241m*\u001b[39m\u001b[38;5;241m*\u001b[39m\u001b[38;5;28mself\u001b[39m\u001b[38;5;241m.\u001b[39mkwargs)\n\u001b[0;32m   1082\u001b[0m         \u001b[38;5;28;01mif\u001b[39;00m \u001b[38;5;28misinstance\u001b[39m(results[i], ABCSeries):\n\u001b[0;32m   1083\u001b[0m             \u001b[38;5;66;03m# If we have a view on v, we need to make a copy because\u001b[39;00m\n\u001b[0;32m   1084\u001b[0m             \u001b[38;5;66;03m#  series_generator will swap out the underlying data\u001b[39;00m\n\u001b[0;32m   1085\u001b[0m             results[i] \u001b[38;5;241m=\u001b[39m results[i]\u001b[38;5;241m.\u001b[39mcopy(deep\u001b[38;5;241m=\u001b[39m\u001b[38;5;28;01mFalse\u001b[39;00m)\n",
      "Cell \u001b[1;32mIn[13], line 5\u001b[0m, in \u001b[0;36mrow_to_new_multi_hot\u001b[1;34m(row)\u001b[0m\n\u001b[0;32m      3\u001b[0m \u001b[38;5;28;01mdef\u001b[39;00m\u001b[38;5;250m \u001b[39m\u001b[38;5;21mrow_to_new_multi_hot\u001b[39m(row):\n\u001b[0;32m      4\u001b[0m     multi_hot \u001b[38;5;241m=\u001b[39m [\u001b[38;5;241m0\u001b[39m]\u001b[38;5;241m*\u001b[39m\u001b[38;5;28mlen\u001b[39m(unique_new_labels)  \u001b[38;5;66;03m# all zeros initially\u001b[39;00m\n\u001b[1;32m----> 5\u001b[0m     \u001b[38;5;28;01mfor\u001b[39;00m emo \u001b[38;5;129;01min\u001b[39;00m \u001b[43memotions\u001b[49m:\n\u001b[0;32m      6\u001b[0m         \u001b[38;5;28;01mif\u001b[39;00m row[emo] \u001b[38;5;241m==\u001b[39m \u001b[38;5;241m1\u001b[39m:\n\u001b[0;32m      7\u001b[0m             \u001b[38;5;66;03m# If merging:\u001b[39;00m\n\u001b[0;32m      8\u001b[0m             merged_label \u001b[38;5;241m=\u001b[39m label_groups[emo]  \u001b[38;5;66;03m# e.g. \"anger\" for \"disgust\"\u001b[39;00m\n",
      "\u001b[1;31mNameError\u001b[0m: name 'emotions' is not defined"
     ]
    }
   ],
   "source": [
    "import numpy as np\n",
    "\n",
    "def row_to_new_multi_hot(row):\n",
    "    multi_hot = [0]*len(unique_new_labels)  # all zeros initially\n",
    "    for emo in emotions:\n",
    "        if row[emo] == 1:\n",
    "            # If merging:\n",
    "            merged_label = label_groups[emo]  # e.g. \"anger\" for \"disgust\"\n",
    "            # If NOT merging, do: merged_label = emo\n",
    "            idx = new_label2id[merged_label]\n",
    "            multi_hot[idx] = 1\n",
    "    return multi_hot\n",
    "\n",
    "df[\"new_multi_hot\"] = df.apply(row_to_new_multi_hot, axis=1)\n"
   ]
  }
 ],
 "metadata": {
  "kernelspec": {
   "display_name": "env_py310",
   "language": "python",
   "name": "python3"
  },
  "language_info": {
   "codemirror_mode": {
    "name": "ipython",
    "version": 3
   },
   "file_extension": ".py",
   "mimetype": "text/x-python",
   "name": "python",
   "nbconvert_exporter": "python",
   "pygments_lexer": "ipython3",
   "version": "3.10.11"
  }
 },
 "nbformat": 4,
 "nbformat_minor": 2
}
